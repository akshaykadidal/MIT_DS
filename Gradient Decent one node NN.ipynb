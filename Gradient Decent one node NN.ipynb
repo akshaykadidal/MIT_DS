{
 "cells": [
  {
   "cell_type": "code",
   "execution_count": 1,
   "metadata": {},
   "outputs": [],
   "source": [
    "## lets imagine a simple neural network with two nodes."
   ]
  },
  {
   "cell_type": "code",
   "execution_count": 440,
   "metadata": {},
   "outputs": [],
   "source": [
    "import numpy as np"
   ]
  },
  {
   "cell_type": "code",
   "execution_count": 441,
   "metadata": {},
   "outputs": [],
   "source": [
    "X = np.array([[1,1,0,1,0,1,1,0,0]])"
   ]
  },
  {
   "cell_type": "code",
   "execution_count": 442,
   "metadata": {},
   "outputs": [],
   "source": [
    "Y = np.array([0,0,1,0,1,0,0,1,1])"
   ]
  },
  {
   "cell_type": "code",
   "execution_count": 443,
   "metadata": {},
   "outputs": [],
   "source": [
    "# sigma function\n",
    "sigma = lambda z : np.tanh(z) # sigma function \n",
    "d_sigma = lambda z : 1 - np.tanh(z)**(2) # first diffrential"
   ]
  },
  {
   "cell_type": "code",
   "execution_count": 444,
   "metadata": {},
   "outputs": [],
   "source": [
    "# assign random values to A.B\n",
    "W = np.random.randn(1)\n",
    "b = np.random.randn(1)"
   ]
  },
  {
   "cell_type": "code",
   "execution_count": 445,
   "metadata": {},
   "outputs": [],
   "source": [
    "def forward_feed(a0) :\n",
    "    z = W @ a0 + b\n",
    "    a1 = sigma(z)\n",
    "    return a0, a1, z"
   ]
  },
  {
   "cell_type": "code",
   "execution_count": 454,
   "metadata": {},
   "outputs": [],
   "source": [
    "def cost(a1, y) :\n",
    "    return np.sum((a1 - y)**2) / a1.size"
   ]
  },
  {
   "cell_type": "code",
   "execution_count": 447,
   "metadata": {},
   "outputs": [],
   "source": [
    "#a0, a1, z = forward_feed(X)"
   ]
  },
  {
   "cell_type": "code",
   "execution_count": 455,
   "metadata": {},
   "outputs": [],
   "source": [
    "# deffrential function dc/db\n",
    "def J_b (x, y) :\n",
    "    a0, a1, z = forward_feed(x)\n",
    "    J = 2 * (a1 - y) # dc/da1\n",
    "    J = J * d_sigma(z) # dc/da1 * da1/dz * dz/db Note: dz/db = 1 \n",
    "    J = np.sum(J) / x.size\n",
    "    return J"
   ]
  },
  {
   "cell_type": "code",
   "execution_count": 449,
   "metadata": {},
   "outputs": [],
   "source": [
    "# deffrential function dc/dw\n",
    "def J_w (x, y) :\n",
    "    a0, a1, z = forward_feed(x)\n",
    "    J = 2 * (a1 - y) # dc/da1\n",
    "    J = J * d_sigma(z) # dc/da1 * da1/dz\n",
    "    J = J @ a0.T / x.size # \n",
    "    return J    "
   ]
  },
  {
   "cell_type": "code",
   "execution_count": 456,
   "metadata": {},
   "outputs": [],
   "source": [
    "def back_prop (x, y, W, b, iterations=50000, stepsize=.01) :\n",
    "    while iterations>=0 :\n",
    "        W = W - J_w (x, y) * stepsize\n",
    "        b = b - J_b (x, y) * stepsize\n",
    "        iterations -= 1\n",
    "        \n",
    "    return W , b"
   ]
  },
  {
   "cell_type": "code",
   "execution_count": 457,
   "metadata": {},
   "outputs": [
    {
     "data": {
      "text/plain": [
       "(array([-5.]), array([5.00000733]))"
      ]
     },
     "execution_count": 457,
     "metadata": {},
     "output_type": "execute_result"
    }
   ],
   "source": [
    "back_prop(X,Y, W, b)"
   ]
  },
  {
   "cell_type": "code",
   "execution_count": 452,
   "metadata": {},
   "outputs": [],
   "source": [
    "W = np.array([-5])\n",
    "b = np.array([5])"
   ]
  },
  {
   "cell_type": "code",
   "execution_count": 458,
   "metadata": {},
   "outputs": [
    {
     "data": {
      "text/plain": [
       "(array([[1, 1, 0, 1, 0, 1, 1, 0, 0]]),\n",
       " array([0.       , 0.       , 0.9999092, 0.       , 0.9999092, 0.       ,\n",
       "        0.       , 0.9999092, 0.9999092]),\n",
       " array([0, 0, 5, 0, 5, 0, 0, 5, 5]))"
      ]
     },
     "execution_count": 458,
     "metadata": {},
     "output_type": "execute_result"
    }
   ],
   "source": [
    "forward_feed(X)"
   ]
  }
 ],
 "metadata": {
  "kernelspec": {
   "display_name": "Python 3",
   "language": "python",
   "name": "python3"
  },
  "language_info": {
   "codemirror_mode": {
    "name": "ipython",
    "version": 3
   },
   "file_extension": ".py",
   "mimetype": "text/x-python",
   "name": "python",
   "nbconvert_exporter": "python",
   "pygments_lexer": "ipython3",
   "version": "3.6.5"
  }
 },
 "nbformat": 4,
 "nbformat_minor": 2
}
